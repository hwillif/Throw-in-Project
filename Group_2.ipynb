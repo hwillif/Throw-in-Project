{
 "cells": [
  {
   "cell_type": "markdown",
   "id": "b70d404c",
   "metadata": {},
   "source": [
    "# Group 1 Throw-In Project"
   ]
  },
  {
   "cell_type": "code",
   "execution_count": null,
   "id": "eb8a7d58",
   "metadata": {},
   "outputs": [],
   "source": [
    "# pip install tqdm\n",
    "# pip install statsbombpy"
   ]
  },
  {
   "cell_type": "code",
   "execution_count": 14,
   "id": "57e0ce99",
   "metadata": {},
   "outputs": [
    {
     "name": "stderr",
     "output_type": "stream",
     "text": [
      "c:\\Users\\Earni\\OneDrive\\Documents\\GitHub\\Throw-in-Project\\venv\\Lib\\site-packages\\tqdm\\auto.py:21: TqdmWarning: IProgress not found. Please update jupyter and ipywidgets. See https://ipywidgets.readthedocs.io/en/stable/user_install.html\n",
      "  from .autonotebook import tqdm as notebook_tqdm\n"
     ]
    }
   ],
   "source": [
    "import pandas as pd\n",
    "from statsbombpy import sb\n",
    "\n",
    "from typing import Optional, Iterable\n",
    "from statsbombpy import sb\n",
    "from tqdm.auto import tqdm"
   ]
  },
  {
   "cell_type": "markdown",
   "id": "972fcebc",
   "metadata": {},
   "source": [
    "### Import Womans Data"
   ]
  },
  {
   "cell_type": "code",
   "execution_count": 11,
   "id": "9807cb4e",
   "metadata": {},
   "outputs": [
    {
     "name": "stderr",
     "output_type": "stream",
     "text": [
      "c:\\Users\\Earni\\OneDrive\\Documents\\GitHub\\Throw-in-Project\\venv\\Lib\\site-packages\\statsbombpy\\api_client.py:21: NoAuthWarning: credentials were not supplied. open data access only\n",
      "  warnings.warn(\n"
     ]
    }
   ],
   "source": [
    "WomenSL = sb.matches(competition_id=37, season_id=90) \n"
   ]
  },
  {
   "cell_type": "code",
   "execution_count": null,
   "id": "8f538f4e",
   "metadata": {},
   "outputs": [],
   "source": [
    "def build_events_dataset(\n",
    "    matches_df: pd.DataFrame,\n",
    "    match_id_col: str = \"match_id\",\n",
    "    save_csv: Optional[str] = None,\n",
    "    keep_columns: Optional[Iterable[str]] = None,\n",
    "    add_meta: bool = True,\n",
    "    ) -> pd.DataFrame:\n",
    "\n",
    "# Fetch events for all match_ids in `matches_df`, concatenate into one DataFrame,\n",
    "# and (optionally) merge key match metadata columns.\n",
    "\n",
    "# Parameters\n",
    "# ----------\n",
    "# matches_df : DataFrame containing at least `match_id`\n",
    "# match_id_col : name of the match id column\n",
    "# save_parquet : path to save a Parquet file (recommended)\n",
    "# save_csv : path to save a CSV file\n",
    "# keep_columns : iterable of event columns to keep (None = keep all)\n",
    "# add_meta : merge match metadata columns (season, teams, date, week, competition)\n",
    "\n",
    "# Returns\n",
    "# -------\n",
    "# DataFrame of all events with `match_id` and optional metadata.\n",
    "\n",
    "    if match_id_col not in matches_df.columns:\n",
    "        raise KeyError(f\"`{match_id_col}` not in matches_df columns\")\n",
    "\n",
    "\n",
    "    meta_cols = [\n",
    "    match_id_col,\n",
    "    \"season\", \"season_id\", \"season_name\",\n",
    "    \"competition\", \"competition_id\", \"competition_name\",\n",
    "    \"match_date\", \"match_week\",\n",
    "    \"home_team\", \"away_team\"\n",
    "    ]\n",
    "    meta = matches_df[[c for c in meta_cols if c in matches_df.columns]].drop_duplicates()\n",
    "\n",
    "    all_frames = []\n",
    "    failures = []\n",
    "\n",
    "    mids = pd.unique(matches_df[match_id_col].astype(\"int64\"))\n",
    "    for mid in tqdm(mids, desc=\"Fetching events\"):\n",
    "        try:\n",
    "            ev = sb.events(match_id=int(mid))\n",
    "            ev[match_id_col] = int(mid)\n",
    "            all_frames.append(ev)\n",
    "        except Exception as e:\n",
    "            failures.append((int(mid), str(e)))\n",
    "\n",
    "    if not all_frames:\n",
    "        raise RuntimeError(\"No events were loaded. Check your match_ids or environment.\")\n",
    "\n",
    "    events = pd.concat(all_frames, ignore_index=True)\n",
    "\n",
    "\n",
    "    if keep_columns is not None:\n",
    "        keep = list(set(keep_columns) | {match_id_col})\n",
    "        events = events[[c for c in keep if c in events.columns]]\n",
    "\n",
    "\n",
    "    if add_meta and not meta.empty:\n",
    "        events = events.merge(meta, on=match_id_col, how=\"left\")\n",
    "\n",
    "\n",
    "    if save_csv:\n",
    "        events.to_csv(save_csv, index=False)\n",
    "        print(f\"Saved events: {len(events):,} rows → {save_csv}\")\n",
    "\n",
    "    if failures:\n",
    "        print(f\"\\n Skipped {len(failures)} matches due to errors (showing first 5):\")\n",
    "    for mid, msg in failures[:5]:\n",
    "        print(f\" match_id={mid}: {msg}\")\n",
    "\n",
    "    return events\n",
    "\n",
    "\n",
    "\n",
    "events_df = build_events_dataset(\n",
    "WomenSL,\n",
    "keep_columns=None,\n",
    "add_meta=True\n",
    ")\n",
    "\n",
    "\n"
   ]
  },
  {
   "cell_type": "code",
   "execution_count": 20,
   "id": "42fe21f8",
   "metadata": {},
   "outputs": [
    {
     "name": "stdout",
     "output_type": "stream",
     "text": [
      "(443304, 122)\n",
      "       match_id     season                   home_team  \\\n",
      "0       3775648  2020/2021                 Aston Villa   \n",
      "3811    3775609  2020/2021                 Arsenal WFC   \n",
      "7392    3775633  2020/2021                 Aston Villa   \n",
      "10742   3775570  2020/2021  Brighton & Hove Albion WFC   \n",
      "14444   3775581  2020/2021                 Chelsea FCW   \n",
      "\n",
      "                     away_team  \n",
      "0                  Arsenal WFC  \n",
      "3811       West Ham United LFC  \n",
      "7392   Tottenham Hotspur Women  \n",
      "10742              Everton LFC  \n",
      "14444              Aston Villa  \n"
     ]
    }
   ],
   "source": [
    "print(events_df.shape)\n",
    "print(events_df[[\"match_id\", \"season\", \"home_team\", \"away_team\"]].drop_duplicates().head())"
   ]
  }
 ],
 "metadata": {
  "kernelspec": {
   "display_name": "venv",
   "language": "python",
   "name": "python3"
  },
  "language_info": {
   "codemirror_mode": {
    "name": "ipython",
    "version": 3
   },
   "file_extension": ".py",
   "mimetype": "text/x-python",
   "name": "python",
   "nbconvert_exporter": "python",
   "pygments_lexer": "ipython3",
   "version": "3.13.3"
  }
 },
 "nbformat": 4,
 "nbformat_minor": 5
}
