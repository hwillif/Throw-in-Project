{
 "cells": [
  {
   "cell_type": "markdown",
   "id": "b70d404c",
   "metadata": {},
   "source": [
    "# Group 1 Throw-In Project"
   ]
  },
  {
   "cell_type": "code",
   "execution_count": 7,
   "id": "57e0ce99",
   "metadata": {},
   "outputs": [],
   "source": [
    "import pandas as pd\n",
    "from statsbombpy import sb"
   ]
  },
  {
   "cell_type": "markdown",
   "id": "972fcebc",
   "metadata": {},
   "source": [
    "### Import Womans Data"
   ]
  },
  {
   "cell_type": "code",
   "execution_count": null,
   "id": "9807cb4e",
   "metadata": {},
   "outputs": [
    {
     "ename": "NameError",
     "evalue": "name 'DEFAULT_CREDS' is not defined",
     "output_type": "error",
     "traceback": [
      "\u001b[31m---------------------------------------------------------------------------\u001b[39m",
      "\u001b[31mNameError\u001b[39m                                 Traceback (most recent call last)",
      "\u001b[36mCell\u001b[39m\u001b[36m \u001b[39m\u001b[32mIn[9]\u001b[39m\u001b[32m, line 1\u001b[39m\n\u001b[32m----> \u001b[39m\u001b[32m1\u001b[39m WomenSL = sb.matches(competition_id=\u001b[32m37\u001b[39m, season_id=\u001b[32m90\u001b[39m, creds= \u001b[43mDEFAULT_CREDS\u001b[49m)\n",
      "\u001b[31mNameError\u001b[39m: name 'DEFAULT_CREDS' is not defined"
     ]
    }
   ],
   "source": [
    "WomenSL = sb.matches(competition_id=37, season_id=90, creds= )\n"
   ]
  }
 ],
 "metadata": {
  "kernelspec": {
   "display_name": "venv",
   "language": "python",
   "name": "python3"
  },
  "language_info": {
   "codemirror_mode": {
    "name": "ipython",
    "version": 3
   },
   "file_extension": ".py",
   "mimetype": "text/x-python",
   "name": "python",
   "nbconvert_exporter": "python",
   "pygments_lexer": "ipython3",
   "version": "3.13.3"
  }
 },
 "nbformat": 4,
 "nbformat_minor": 5
}
